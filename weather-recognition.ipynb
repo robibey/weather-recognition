{
 "cells": [
  {
   "cell_type": "code",
   "execution_count": 1,
   "id": "a1b773a9-eb64-4b11-8a9c-4ec1cc9ee93d",
   "metadata": {},
   "outputs": [],
   "source": [
    "import os\n",
    "import pandas as pd\n",
    "import numpy as np\n",
    "import matplotlib.pyplot as plt"
   ]
  },
  {
   "cell_type": "code",
   "execution_count": 2,
   "id": "0def447f-4546-492f-a61c-534cf474ee9e",
   "metadata": {},
   "outputs": [],
   "source": [
    "data_dir = r'C:\\Python Projects\\weather-recognition\\images'\n",
    "test_path = os.path.join(data_dir, 'test')\n",
    "train_path = os.path.join(data_dir, 'train')\n",
    "val_path = os.path.join(data_dir, 'val')"
   ]
  },
  {
   "cell_type": "code",
   "execution_count": 3,
   "id": "f35b28aa-cb2c-4900-b98f-53d7d81cf8be",
   "metadata": {},
   "outputs": [],
   "source": [
    "from matplotlib.image import imread"
   ]
  },
  {
   "cell_type": "code",
   "execution_count": 4,
   "id": "d0366707-d23c-4a58-9169-ded31cbdadfc",
   "metadata": {},
   "outputs": [],
   "source": [
    "img = os.path.join(train_path, 'rain', '11.jpg')"
   ]
  },
  {
   "cell_type": "code",
   "execution_count": 5,
   "id": "d1d592e8-3c78-432c-9c9c-4ed1d62116a1",
   "metadata": {},
   "outputs": [],
   "source": [
    "dim1 = []\n",
    "dim2 = []\n",
    "\n",
    "for direct in os.listdir(test_path):\n",
    "    for image_filename in os.listdir(os.path.join(test_path,direct)):\n",
    "        img = imread(os.path.join(test_path, direct, image_filename))\n",
    "        d1,d2,colors = img.shape\n",
    "        dim1.append(d1)\n",
    "        dim2.append(d2)"
   ]
  },
  {
   "cell_type": "code",
   "execution_count": 6,
   "id": "b0fb83be-6f38-41e9-935a-1986b4ae7a68",
   "metadata": {},
   "outputs": [
    {
     "data": {
      "text/plain": [
       "360.0"
      ]
     },
     "execution_count": 6,
     "metadata": {},
     "output_type": "execute_result"
    }
   ],
   "source": [
    "np.mean(d1)"
   ]
  },
  {
   "cell_type": "code",
   "execution_count": 7,
   "id": "eecf2fb5-fb23-4fd1-8b7d-7b46f5bcd025",
   "metadata": {},
   "outputs": [
    {
     "data": {
      "text/plain": [
       "540.0"
      ]
     },
     "execution_count": 7,
     "metadata": {},
     "output_type": "execute_result"
    }
   ],
   "source": [
    "np.mean(d2)"
   ]
  },
  {
   "cell_type": "code",
   "execution_count": 8,
   "id": "33ff37c9-0f3c-4426-8172-9b765491e8b5",
   "metadata": {},
   "outputs": [],
   "source": [
    "image_shape = (360, 540, 3)"
   ]
  },
  {
   "cell_type": "code",
   "execution_count": 9,
   "id": "a98af5ee-5d2f-4f7e-9630-742213337ce9",
   "metadata": {},
   "outputs": [],
   "source": [
    "from tensorflow.keras.preprocessing.image import ImageDataGenerator"
   ]
  },
  {
   "cell_type": "code",
   "execution_count": 10,
   "id": "17021d89-aa7a-4e15-a3dc-10a118216c43",
   "metadata": {},
   "outputs": [],
   "source": [
    "image_gen = ImageDataGenerator(rotation_range=20, width_shift_range=0.1, height_shift_range=0.1, horizontal_flip=True, zoom_range=0.2, rescale=1/255)"
   ]
  },
  {
   "cell_type": "code",
   "execution_count": 11,
   "id": "fd7b7355-154b-4a21-8dde-ba644e56006d",
   "metadata": {},
   "outputs": [
    {
     "name": "stdout",
     "output_type": "stream",
     "text": [
      "Found 5484 images belonging to 11 classes.\n"
     ]
    },
    {
     "data": {
      "text/plain": [
       "<keras.preprocessing.image.DirectoryIterator at 0x23e750fdd50>"
      ]
     },
     "execution_count": 11,
     "metadata": {},
     "output_type": "execute_result"
    }
   ],
   "source": [
    "image_gen.flow_from_directory(train_path)"
   ]
  },
  {
   "cell_type": "code",
   "execution_count": 12,
   "id": "53fd5726-9af6-4582-9506-b46f8a0f3805",
   "metadata": {},
   "outputs": [
    {
     "name": "stdout",
     "output_type": "stream",
     "text": [
      "Found 684 images belonging to 11 classes.\n"
     ]
    },
    {
     "data": {
      "text/plain": [
       "<keras.preprocessing.image.DirectoryIterator at 0x23e750feb00>"
      ]
     },
     "execution_count": 12,
     "metadata": {},
     "output_type": "execute_result"
    }
   ],
   "source": [
    "image_gen.flow_from_directory(test_path)"
   ]
  },
  {
   "cell_type": "code",
   "execution_count": 13,
   "id": "ba3205e8-37fa-4f25-b5d7-5c66d41f409a",
   "metadata": {},
   "outputs": [
    {
     "name": "stdout",
     "output_type": "stream",
     "text": [
      "Found 682 images belonging to 11 classes.\n"
     ]
    },
    {
     "data": {
      "text/plain": [
       "<keras.preprocessing.image.DirectoryIterator at 0x23e2dd07be0>"
      ]
     },
     "execution_count": 13,
     "metadata": {},
     "output_type": "execute_result"
    }
   ],
   "source": [
    "image_gen.flow_from_directory(val_path)"
   ]
  },
  {
   "cell_type": "code",
   "execution_count": 14,
   "id": "94ae8335-3130-4d06-afac-45218a53cdf5",
   "metadata": {},
   "outputs": [],
   "source": [
    "from keras.models import Sequential\n",
    "from keras.layers import Dense,Conv2D,MaxPool2D,Dropout,Flatten"
   ]
  },
  {
   "cell_type": "code",
   "execution_count": 15,
   "id": "51eb6c37-e0ab-4d98-ae99-653251700d72",
   "metadata": {},
   "outputs": [],
   "source": [
    "model = Sequential()\n",
    "\n",
    "model.add(Conv2D(filters=32, kernel_size=(3,3), input_shape=image_shape, activation='relu'))\n",
    "model.add(MaxPool2D(pool_size=(2,2)))\n",
    "\n",
    "model.add(Conv2D(filters=64, kernel_size=(3,3), input_shape=image_shape, activation='relu'))\n",
    "model.add(MaxPool2D(pool_size=(2,2)))\n",
    "\n",
    "model.add(Conv2D(filters=128, kernel_size=(3,3), input_shape=image_shape, activation='relu'))\n",
    "model.add(MaxPool2D(pool_size=(2,2)))\n",
    "\n",
    "model.add(Conv2D(filters=64, kernel_size=(3,3), input_shape=image_shape, activation='relu'))\n",
    "model.add(MaxPool2D(pool_size=(2,2)))\n",
    "\n",
    "model.add(Conv2D(filters=32, kernel_size=(3,3), input_shape=image_shape, activation='relu'))\n",
    "model.add(MaxPool2D(pool_size=(2,2)))\n",
    "\n",
    "model.add(Flatten())\n",
    "\n",
    "model.add(Dense(256, activation='relu'))\n",
    "model.add(Dropout(0.5))\n",
    "\n",
    "model.add(Dense(11, activation='softmax'))\n",
    "\n",
    "model.compile(loss='categorical_crossentropy', optimizer='adam', metrics=['accuracy'])"
   ]
  },
  {
   "cell_type": "code",
   "execution_count": 16,
   "id": "2a657a99-f1aa-47b5-a7a2-de78c30446ca",
   "metadata": {},
   "outputs": [
    {
     "name": "stdout",
     "output_type": "stream",
     "text": [
      "Model: \"sequential\"\n",
      "_________________________________________________________________\n",
      " Layer (type)                Output Shape              Param #   \n",
      "=================================================================\n",
      " conv2d (Conv2D)             (None, 358, 538, 32)      896       \n",
      "                                                                 \n",
      " max_pooling2d (MaxPooling2D  (None, 179, 269, 32)     0         \n",
      " )                                                               \n",
      "                                                                 \n",
      " conv2d_1 (Conv2D)           (None, 177, 267, 64)      18496     \n",
      "                                                                 \n",
      " max_pooling2d_1 (MaxPooling  (None, 88, 133, 64)      0         \n",
      " 2D)                                                             \n",
      "                                                                 \n",
      " conv2d_2 (Conv2D)           (None, 86, 131, 128)      73856     \n",
      "                                                                 \n",
      " max_pooling2d_2 (MaxPooling  (None, 43, 65, 128)      0         \n",
      " 2D)                                                             \n",
      "                                                                 \n",
      " conv2d_3 (Conv2D)           (None, 41, 63, 64)        73792     \n",
      "                                                                 \n",
      " max_pooling2d_3 (MaxPooling  (None, 20, 31, 64)       0         \n",
      " 2D)                                                             \n",
      "                                                                 \n",
      " conv2d_4 (Conv2D)           (None, 18, 29, 32)        18464     \n",
      "                                                                 \n",
      " max_pooling2d_4 (MaxPooling  (None, 9, 14, 32)        0         \n",
      " 2D)                                                             \n",
      "                                                                 \n",
      " flatten (Flatten)           (None, 4032)              0         \n",
      "                                                                 \n",
      " dense (Dense)               (None, 256)               1032448   \n",
      "                                                                 \n",
      " dropout (Dropout)           (None, 256)               0         \n",
      "                                                                 \n",
      " dense_1 (Dense)             (None, 11)                2827      \n",
      "                                                                 \n",
      "=================================================================\n",
      "Total params: 1,220,779\n",
      "Trainable params: 1,220,779\n",
      "Non-trainable params: 0\n",
      "_________________________________________________________________\n"
     ]
    }
   ],
   "source": [
    "model.summary()"
   ]
  },
  {
   "cell_type": "code",
   "execution_count": 17,
   "id": "193b54ea-c9b9-4a34-85f4-f12fed37b359",
   "metadata": {},
   "outputs": [],
   "source": [
    "from keras.callbacks import EarlyStopping"
   ]
  },
  {
   "cell_type": "code",
   "execution_count": 18,
   "id": "8d07a446-ec21-483b-9020-fbb6d781c18c",
   "metadata": {},
   "outputs": [],
   "source": [
    "early_stop = EarlyStopping(monitor='val_loss', patience=2)"
   ]
  },
  {
   "cell_type": "code",
   "execution_count": 19,
   "id": "ba68a3a3-fba1-4ea2-ad4b-4378b5babc47",
   "metadata": {},
   "outputs": [],
   "source": [
    "batch_size=16"
   ]
  },
  {
   "cell_type": "code",
   "execution_count": 20,
   "id": "ad17d590-e6b8-400b-beb4-0e25fe8db2b8",
   "metadata": {},
   "outputs": [
    {
     "name": "stdout",
     "output_type": "stream",
     "text": [
      "Found 5484 images belonging to 11 classes.\n"
     ]
    }
   ],
   "source": [
    "train_image_gen = image_gen.flow_from_directory(train_path, target_size=image_shape[:2],batch_size=batch_size)"
   ]
  },
  {
   "cell_type": "code",
   "execution_count": 21,
   "id": "e94d5644-4dda-453f-9612-f9e66ebb4b7b",
   "metadata": {},
   "outputs": [
    {
     "name": "stdout",
     "output_type": "stream",
     "text": [
      "Found 684 images belonging to 11 classes.\n"
     ]
    }
   ],
   "source": [
    "test_image_gen = image_gen.flow_from_directory(test_path, target_size=image_shape[:2],batch_size=batch_size, shuffle=False)"
   ]
  },
  {
   "cell_type": "code",
   "execution_count": 22,
   "id": "264f046d-09ec-4961-8721-cb86dce9fb42",
   "metadata": {},
   "outputs": [
    {
     "name": "stdout",
     "output_type": "stream",
     "text": [
      "Found 682 images belonging to 11 classes.\n"
     ]
    }
   ],
   "source": [
    "val_image_gen = image_gen.flow_from_directory(val_path, target_size=image_shape[:2],batch_size=batch_size, shuffle=False)"
   ]
  },
  {
   "cell_type": "code",
   "execution_count": 23,
   "id": "17702fd6-eff1-4971-9796-6a2fda80e7f8",
   "metadata": {},
   "outputs": [
    {
     "name": "stdout",
     "output_type": "stream",
     "text": [
      "Epoch 1/20\n",
      "343/343 [==============================] - 169s 483ms/step - loss: 1.8878 - accuracy: 0.3508 - val_loss: 1.5212 - val_accuracy: 0.5029\n",
      "Epoch 2/20\n",
      "343/343 [==============================] - 162s 473ms/step - loss: 1.4705 - accuracy: 0.5000 - val_loss: 1.3260 - val_accuracy: 0.5645\n",
      "Epoch 3/20\n",
      "343/343 [==============================] - 165s 481ms/step - loss: 1.3089 - accuracy: 0.5578 - val_loss: 1.3761 - val_accuracy: 0.4853\n",
      "Epoch 4/20\n",
      "343/343 [==============================] - 168s 490ms/step - loss: 1.2301 - accuracy: 0.5839 - val_loss: 1.1509 - val_accuracy: 0.6070\n",
      "Epoch 5/20\n",
      "343/343 [==============================] - 233s 680ms/step - loss: 1.1694 - accuracy: 0.6043 - val_loss: 1.1148 - val_accuracy: 0.6056\n",
      "Epoch 6/20\n",
      "343/343 [==============================] - 172s 503ms/step - loss: 1.1292 - accuracy: 0.6112 - val_loss: 1.1002 - val_accuracy: 0.6129\n",
      "Epoch 7/20\n",
      "343/343 [==============================] - 168s 490ms/step - loss: 1.1036 - accuracy: 0.6220 - val_loss: 0.9814 - val_accuracy: 0.6437\n",
      "Epoch 8/20\n",
      "343/343 [==============================] - 170s 496ms/step - loss: 1.0564 - accuracy: 0.6450 - val_loss: 0.9489 - val_accuracy: 0.6818\n",
      "Epoch 9/20\n",
      "343/343 [==============================] - 167s 487ms/step - loss: 1.0388 - accuracy: 0.6508 - val_loss: 0.9366 - val_accuracy: 0.6789\n",
      "Epoch 10/20\n",
      "343/343 [==============================] - 192s 560ms/step - loss: 0.9949 - accuracy: 0.6557 - val_loss: 0.9600 - val_accuracy: 0.6716\n",
      "Epoch 11/20\n",
      "343/343 [==============================] - 164s 478ms/step - loss: 0.9761 - accuracy: 0.6690 - val_loss: 0.8677 - val_accuracy: 0.7053\n",
      "Epoch 12/20\n",
      "343/343 [==============================] - 166s 483ms/step - loss: 0.9422 - accuracy: 0.6820 - val_loss: 0.9103 - val_accuracy: 0.6891\n",
      "Epoch 13/20\n",
      "343/343 [==============================] - 164s 478ms/step - loss: 0.9288 - accuracy: 0.6871 - val_loss: 0.8672 - val_accuracy: 0.7053\n",
      "Epoch 14/20\n",
      "343/343 [==============================] - 164s 479ms/step - loss: 0.9100 - accuracy: 0.6911 - val_loss: 0.8250 - val_accuracy: 0.7317\n",
      "Epoch 15/20\n",
      "343/343 [==============================] - 166s 483ms/step - loss: 0.8715 - accuracy: 0.6958 - val_loss: 0.8853 - val_accuracy: 0.7009\n",
      "Epoch 16/20\n",
      "343/343 [==============================] - 178s 519ms/step - loss: 0.8892 - accuracy: 0.6958 - val_loss: 0.8150 - val_accuracy: 0.7082\n",
      "Epoch 17/20\n",
      "343/343 [==============================] - 169s 493ms/step - loss: 0.8563 - accuracy: 0.7146 - val_loss: 0.8188 - val_accuracy: 0.7214\n",
      "Epoch 18/20\n",
      "343/343 [==============================] - 172s 500ms/step - loss: 0.8383 - accuracy: 0.7163 - val_loss: 0.8190 - val_accuracy: 0.7258\n"
     ]
    }
   ],
   "source": [
    "results = model.fit(train_image_gen, epochs=20, validation_data=val_image_gen, callbacks=[early_stop])"
   ]
  },
  {
   "cell_type": "code",
   "execution_count": 27,
   "id": "35a3c693-af9a-4bf4-853e-303b5283cad3",
   "metadata": {},
   "outputs": [
    {
     "name": "stdout",
     "output_type": "stream",
     "text": [
      "43/43 [==============================] - 20s 468ms/step\n"
     ]
    }
   ],
   "source": [
    "pred = model.predict(test_image_gen)"
   ]
  },
  {
   "cell_type": "code",
   "execution_count": 35,
   "id": "54d7c5ac-328b-4213-9a9c-8b65cd66a739",
   "metadata": {},
   "outputs": [
    {
     "name": "stderr",
     "output_type": "stream",
     "text": [
      "WARNING:absl:Found untraced functions such as _jit_compiled_convolution_op, _jit_compiled_convolution_op, _jit_compiled_convolution_op, _jit_compiled_convolution_op, _jit_compiled_convolution_op while saving (showing 5 of 5). These functions will not be directly callable after loading.\n"
     ]
    },
    {
     "name": "stdout",
     "output_type": "stream",
     "text": [
      "INFO:tensorflow:Assets written to: model\\assets\n"
     ]
    },
    {
     "name": "stderr",
     "output_type": "stream",
     "text": [
      "INFO:tensorflow:Assets written to: model\\assets\n"
     ]
    }
   ],
   "source": [
    "model.save('model')"
   ]
  },
  {
   "cell_type": "code",
   "execution_count": 36,
   "id": "0501cc0c-16f9-41f2-a06a-6524be0dff02",
   "metadata": {},
   "outputs": [
    {
     "name": "stdout",
     "output_type": "stream",
     "text": [
      "43/43 [==============================] - 19s 443ms/step - loss: 0.8269 - accuracy: 0.7339\n"
     ]
    },
    {
     "data": {
      "text/plain": [
       "[0.8268906474113464, 0.7339181303977966]"
      ]
     },
     "execution_count": 36,
     "metadata": {},
     "output_type": "execute_result"
    }
   ],
   "source": [
    "model.evaluate(test_image_gen, batch_size=16)"
   ]
  },
  {
   "cell_type": "code",
   "execution_count": null,
   "id": "edd72a17-6602-4611-9eef-5d5bb41e0baa",
   "metadata": {},
   "outputs": [],
   "source": []
  }
 ],
 "metadata": {
  "kernelspec": {
   "display_name": "Python 3 (ipykernel)",
   "language": "python",
   "name": "python3"
  },
  "language_info": {
   "codemirror_mode": {
    "name": "ipython",
    "version": 3
   },
   "file_extension": ".py",
   "mimetype": "text/x-python",
   "name": "python",
   "nbconvert_exporter": "python",
   "pygments_lexer": "ipython3",
   "version": "3.10.1"
  },
  "vscode": {
   "interpreter": {
    "hash": "d5e166d8125a94636f2160e40e59d0228dc3ef27bd43eaab4b709c98e355f5db"
   }
  }
 },
 "nbformat": 4,
 "nbformat_minor": 5
}
